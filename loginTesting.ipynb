{
 "cells": [
  {
   "cell_type": "code",
   "execution_count": 8,
   "metadata": {},
   "outputs": [
    {
     "name": "stdout",
     "output_type": "stream",
     "text": [
      "Testing for Username:Sumanth_Konjeti& Password:sumanth12345\n",
      "Test passed\n",
      ".\n",
      ".\n",
      ".\n",
      ".\n",
      ".\n",
      "Testing for Username:cb.tc.4& Password:anbuondruthana\n",
      "Test failed in else\n",
      "in else http://localhost/hm/user-login.php\n"
     ]
    }
   ],
   "source": [
    "from selenium import webdriver\n",
    "import time\n",
    "\n",
    "def loginUItestkaro(un,pw):\n",
    "    \n",
    "    print(\"Testing for Username:\"+un+\"& Password:\"+pw)\n",
    "    EXE_PATH = 'C:\\\\Users\\\\HP\\\\Desktop\\\\chromedriver.exe'\n",
    "    driver = webdriver.Chrome(executable_path=EXE_PATH)\n",
    "    host = 'http://localhost/'\n",
    "    time_table = host + 'hm/'\n",
    "    signup_link = time_table + 'user-login.php'\n",
    "    home_link=time_table+'dashboard.php'\n",
    "    #driver.get('http://192.168.43.211/php_resume/signup.html')\n",
    "    driver.get(signup_link)\n",
    "    #Bad email, good password # Expected:fail\n",
    "    email_field = driver.find_element_by_id('un')\n",
    "    email_field.send_keys(un)\n",
    "\n",
    "    password = pw\n",
    "    password_field = driver.find_element_by_id('pass')\n",
    "    password_field.send_keys(password)\n",
    "\n",
    "    submit = driver.find_element_by_id('sub').click()\n",
    "    time.sleep(3)\n",
    "    if(driver.current_url == home_link):\n",
    "        print('Test passed')\n",
    "    else:\n",
    "        print('Test failed')\n",
    "        print(\"in else\",driver.current_url)\n",
    "\n",
    "    driver.close()\n",
    "   \n",
    "    \n",
    "loginUItestkaro('Sumanth_Konjeti','sumanth12345')\n",
    "for i in range(5):\n",
    "    print(\".\")\n",
    "    time.sleep(0.3)\n",
    "loginUItestkaro('cb.tc.4','anbuondruthana')"
   ]
  },
  {
   "cell_type": "code",
   "execution_count": 2,
   "metadata": {},
   "outputs": [
    {
     "name": "stdout",
     "output_type": "stream",
     "text": [
      "Collecting Selenium\n",
      "  Downloading https://files.pythonhosted.org/packages/80/d6/4294f0b4bce4de0abf13e17190289f9d0613b0a44e5dd6a7f5ca98459853/selenium-3.141.0-py2.py3-none-any.whl (904kB)\n",
      "Requirement already satisfied: urllib3 in c:\\users\\hp\\anaconda3\\lib\\site-packages (from Selenium) (1.24.1)\n",
      "Installing collected packages: Selenium\n",
      "Successfully installed Selenium-3.141.0\n"
     ]
    }
   ],
   "source": [
    "! pip install Selenium\n"
   ]
  },
  {
   "cell_type": "code",
   "execution_count": null,
   "metadata": {},
   "outputs": [],
   "source": [
    "from selenium import webdriver\n",
    "import time\n",
    "\n",
    "def signupUItestkaro(fn,st,ct,em,pa,paa):\n",
    "    \n",
    "    \n",
    "    EXE_PATH = 'C:\\\\Users\\\\HP\\\\Desktop\\\\chromedriver.exe'\n",
    "    driver = webdriver.Chrome(executable_path=EXE_PATH)\n",
    "    host = 'http://localhost/'\n",
    "    time_table = host + 'hm/'\n",
    "    signup_link = time_table + 'registration.php'\n",
    "    home_link=time_table+'user-login.php'\n",
    "    #driver.get('http://192.168.43.211/php_resume/signup.html')\n",
    "    driver.get(signup_link)\n",
    "    #Bad email, good password # Expected:fail\n",
    "    email_field = driver.find_element_by_id('fn')\n",
    "    email_field.send_keys(fn)\n",
    "    email_field = driver.find_element_by_id('st')\n",
    "    email_field.send_keys(st)\n",
    "    email_field = driver.find_element_by_id('cts')\n",
    "    email_field.send_keys(ct)\n",
    "    #email_field = driver.find_element_by_id('rg-male')\n",
    "    #email_field.click()\n",
    "    email_field = driver.find_element_by_id('email')\n",
    "    email_field.send_keys(em)\n",
    "    email_field = driver.find_element_by_id('password')\n",
    "    email_field.send_keys(pa)\n",
    "    email_field = driver.find_element_by_id('password_again')\n",
    "    email_field.send_keys(paa)\n",
    "    #email_field = driver.find_element_by_id('agree')\n",
    "    #email_field.click()\n",
    "    \n",
    "    \n",
    "    \n",
    "\n",
    "    \n",
    "\n",
    "    submit = driver.find_element_by_id('submit').click()\n",
    "    time.sleep(3)\n",
    "    if(driver.current_url == home_link):\n",
    "        print('Test passed')\n",
    "    else:\n",
    "        print('Test failed')\n",
    "        print(\"in else\",driver.current_url)\n",
    "\n",
    "    driver.close()\n",
    "   \n",
    "    \n",
    "signupUItestkaro('Sum','ap','hyd','abhilas@gmail.com','abhi','abhi')"
   ]
  },
  {
   "cell_type": "code",
   "execution_count": null,
   "metadata": {},
   "outputs": [],
   "source": []
  }
 ],
 "metadata": {
  "kernelspec": {
   "display_name": "Python 3",
   "language": "python",
   "name": "python3"
  },
  "language_info": {
   "codemirror_mode": {
    "name": "ipython",
    "version": 3
   },
   "file_extension": ".py",
   "mimetype": "text/x-python",
   "name": "python",
   "nbconvert_exporter": "python",
   "pygments_lexer": "ipython3",
   "version": "3.7.3"
  }
 },
 "nbformat": 4,
 "nbformat_minor": 2
}
